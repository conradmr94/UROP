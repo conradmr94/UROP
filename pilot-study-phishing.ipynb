{
 "cells": [
  {
   "cell_type": "code",
   "execution_count": 1,
   "metadata": {},
   "outputs": [],
   "source": [
    "import csv\n",
    "import numpy as np\n",
    "import pandas as pd\n",
    "from matplotlib import pyplot as plt\n",
    "from sklearn.model_selection import train_test_split"
   ]
  },
  {
   "cell_type": "markdown",
   "metadata": {},
   "source": [
    "## Phishing Data Set"
   ]
  },
  {
   "cell_type": "code",
   "execution_count": 2,
   "metadata": {},
   "outputs": [],
   "source": [
    "# 1 ID\n",
    "# 2 having_IP_Address {binary: \"1\" - URL includes IP address, \"-1\" - address does not include IP address}\n",
    "## 3 URL_Length {ordinal: 1, 0, -1} # need explanation\n",
    "# 4 Shorting_Service [sic]{binary: \"1\" - uses shortening service, \"-1\" - otherwise}\n",
    "# 5 having_At_Symbol {binary: \"1\" - URL contains @, \"-1\" - otherwise}\n",
    "# 6 double_slash_redirecting {binary; \"1\" - yes, URL contains \"//\" to redirect from original link, \"-1\" - no} \n",
    "# 7 Prefix_Suffix {binary: \"1\" - yes, URL has prefix or suffix to obfuscate suspicious URL, \"-1\" - no} \n",
    "## 8 having_Sub_Domain {ordinal: \"-1\", \"0\", \"1\"} # need explanation\n",
    "## 9 SSLfinal_State  {ordinal: \"-1\", \"0\", \"1\"} # need explanation\n",
    "# 10 Domain_registeration_length {binary: \"-1\" - domain expires on <= 1 year, \"1\" - otherwise} \n",
    "# 11 Favicon {binary: \"1\" - favicon loaded from external domain, \"-1\" - otherwise}\n",
    "# 12 port {binary: \"1\" - port # is of the preferred status (open or closed), \"-1\" - otherwise}\n",
    "# 13 HTTPS_token {binary: \"1\" - \"https\" appears within the domain portion of the URL, \"-1\" - otherwise}\n",
    "# 14 Request_URL {binary: \"1\" - external objects of a webpage are loaded from another domain, \"-1\" - otherwise}\n",
    "## 15 URL_of_Anchor {ordinal \"-1\", \"0\", \"1\" } # need explanation\n",
    "## 16 Links_in_tags { 1,-1,0 } # need explanation\n",
    "## 17 SFH  { -1,1,0 } # need explanation\n",
    "# 18 Submitting_to_email {binary: \"1\" - using \"mail()\" or \"mailto:\" function to submit user info, \"-1\" - otherwise}\n",
    "# 19 Abnormal_URL {binary: \"1\" - host name is not included in URL, \"-1\" - otherwise}\n",
    "# 20 Redirect  {binary: \"1\" - # redirect <= 1, \"0\" - otherwise}\n",
    "# 21 on_mouseover  {binary: \"1\" - onMouseOver changes status bar,\"-1\" - otherwise}\n",
    "# 22 RightClick  {binary: \"1\" - right click disabled, \"-1\" - otherwise}\n",
    "# 23 popUpWidnow  {binary: \"1\" - popup window contains text fields,\"-1\" - otherwise}\n",
    "# 24 Iframe {binary: \"1\" - using iframe, \"-1\" - otherwise}\n",
    "# 25 age_of_domain  {binary: \"1\" - age of domain >= 6 months, \"-1\" - otherwise}\n",
    "# 26 DNSRecord   {binary: \"1\" - no DNS record for the domain, \"-1\" - otherwise}\n",
    "## 27 web_traffic  {ordinal: -1,0,1 } # need explanation\n",
    "# 28 Page_Rank {binary: \"1\" - page rank < 0.2, \"-1\" - otherwise}\n",
    "# 29 Google_Index {binary: \"1\" - webpage indexed by google, \"-1\" - otherwise}\n",
    "# 30 Links_pointing_to_page {ordinal: 1,0,-1 } # need explanation\n",
    "# 31 Statistical_report {binary: \"1\" - host belongs to top phishing IPs or top phishing domains, \"-1\" - otherwise}\n",
    "# 32 Result  {binary: \"1\" - phishing, \"-1\" - legitimate}"
   ]
  },
  {
   "cell_type": "code",
   "execution_count": 3,
   "metadata": {
    "scrolled": false
   },
   "outputs": [
    {
     "data": {
      "text/html": [
       "<div>\n",
       "<style scoped>\n",
       "    .dataframe tbody tr th:only-of-type {\n",
       "        vertical-align: middle;\n",
       "    }\n",
       "\n",
       "    .dataframe tbody tr th {\n",
       "        vertical-align: top;\n",
       "    }\n",
       "\n",
       "    .dataframe thead th {\n",
       "        text-align: right;\n",
       "    }\n",
       "</style>\n",
       "<table border=\"1\" class=\"dataframe\">\n",
       "  <thead>\n",
       "    <tr style=\"text-align: right;\">\n",
       "      <th></th>\n",
       "      <th>ID</th>\n",
       "      <th>IP Address</th>\n",
       "      <th>URL Length</th>\n",
       "      <th>Shortening Service</th>\n",
       "      <th>@ Symbol</th>\n",
       "      <th>// Redirect</th>\n",
       "      <th>Prefix/Suffix</th>\n",
       "      <th>Sub-Domain</th>\n",
       "      <th>SSL Final State</th>\n",
       "      <th>Domain Registration</th>\n",
       "      <th>...</th>\n",
       "      <th>Popup Window</th>\n",
       "      <th>iframe</th>\n",
       "      <th>Domain Age</th>\n",
       "      <th>DNS Record</th>\n",
       "      <th>Web Traffic</th>\n",
       "      <th>Page Rank</th>\n",
       "      <th>Google Index</th>\n",
       "      <th>Links to Page</th>\n",
       "      <th>Statistical Report</th>\n",
       "      <th>Result</th>\n",
       "    </tr>\n",
       "  </thead>\n",
       "  <tbody>\n",
       "    <tr>\n",
       "      <th>count</th>\n",
       "      <td>11055.000000</td>\n",
       "      <td>11055.000000</td>\n",
       "      <td>11055.000000</td>\n",
       "      <td>11055.000000</td>\n",
       "      <td>11055.000000</td>\n",
       "      <td>11055.000000</td>\n",
       "      <td>11055.000000</td>\n",
       "      <td>11055.000000</td>\n",
       "      <td>11055.000000</td>\n",
       "      <td>11055.000000</td>\n",
       "      <td>...</td>\n",
       "      <td>11055.000000</td>\n",
       "      <td>11055.000000</td>\n",
       "      <td>11055.000000</td>\n",
       "      <td>11055.000000</td>\n",
       "      <td>11055.000000</td>\n",
       "      <td>11055.000000</td>\n",
       "      <td>11055.000000</td>\n",
       "      <td>11055.000000</td>\n",
       "      <td>11055.000000</td>\n",
       "      <td>11055.000000</td>\n",
       "    </tr>\n",
       "    <tr>\n",
       "      <th>mean</th>\n",
       "      <td>5528.000000</td>\n",
       "      <td>0.313795</td>\n",
       "      <td>-0.633198</td>\n",
       "      <td>0.738761</td>\n",
       "      <td>0.700588</td>\n",
       "      <td>0.741474</td>\n",
       "      <td>-0.734962</td>\n",
       "      <td>0.063953</td>\n",
       "      <td>0.250927</td>\n",
       "      <td>-0.336771</td>\n",
       "      <td>...</td>\n",
       "      <td>0.613388</td>\n",
       "      <td>0.816915</td>\n",
       "      <td>0.061239</td>\n",
       "      <td>0.377114</td>\n",
       "      <td>0.287291</td>\n",
       "      <td>-0.483673</td>\n",
       "      <td>0.721574</td>\n",
       "      <td>0.344007</td>\n",
       "      <td>0.719584</td>\n",
       "      <td>0.113885</td>\n",
       "    </tr>\n",
       "    <tr>\n",
       "      <th>std</th>\n",
       "      <td>3191.447947</td>\n",
       "      <td>0.949534</td>\n",
       "      <td>0.766095</td>\n",
       "      <td>0.673998</td>\n",
       "      <td>0.713598</td>\n",
       "      <td>0.671011</td>\n",
       "      <td>0.678139</td>\n",
       "      <td>0.817518</td>\n",
       "      <td>0.911892</td>\n",
       "      <td>0.941629</td>\n",
       "      <td>...</td>\n",
       "      <td>0.789818</td>\n",
       "      <td>0.576784</td>\n",
       "      <td>0.998168</td>\n",
       "      <td>0.926209</td>\n",
       "      <td>0.827733</td>\n",
       "      <td>0.875289</td>\n",
       "      <td>0.692369</td>\n",
       "      <td>0.569944</td>\n",
       "      <td>0.694437</td>\n",
       "      <td>0.993539</td>\n",
       "    </tr>\n",
       "    <tr>\n",
       "      <th>min</th>\n",
       "      <td>1.000000</td>\n",
       "      <td>-1.000000</td>\n",
       "      <td>-1.000000</td>\n",
       "      <td>-1.000000</td>\n",
       "      <td>-1.000000</td>\n",
       "      <td>-1.000000</td>\n",
       "      <td>-1.000000</td>\n",
       "      <td>-1.000000</td>\n",
       "      <td>-1.000000</td>\n",
       "      <td>-1.000000</td>\n",
       "      <td>...</td>\n",
       "      <td>-1.000000</td>\n",
       "      <td>-1.000000</td>\n",
       "      <td>-1.000000</td>\n",
       "      <td>-1.000000</td>\n",
       "      <td>-1.000000</td>\n",
       "      <td>-1.000000</td>\n",
       "      <td>-1.000000</td>\n",
       "      <td>-1.000000</td>\n",
       "      <td>-1.000000</td>\n",
       "      <td>-1.000000</td>\n",
       "    </tr>\n",
       "    <tr>\n",
       "      <th>25%</th>\n",
       "      <td>2764.500000</td>\n",
       "      <td>-1.000000</td>\n",
       "      <td>-1.000000</td>\n",
       "      <td>1.000000</td>\n",
       "      <td>1.000000</td>\n",
       "      <td>1.000000</td>\n",
       "      <td>-1.000000</td>\n",
       "      <td>-1.000000</td>\n",
       "      <td>-1.000000</td>\n",
       "      <td>-1.000000</td>\n",
       "      <td>...</td>\n",
       "      <td>1.000000</td>\n",
       "      <td>1.000000</td>\n",
       "      <td>-1.000000</td>\n",
       "      <td>-1.000000</td>\n",
       "      <td>0.000000</td>\n",
       "      <td>-1.000000</td>\n",
       "      <td>1.000000</td>\n",
       "      <td>0.000000</td>\n",
       "      <td>1.000000</td>\n",
       "      <td>-1.000000</td>\n",
       "    </tr>\n",
       "    <tr>\n",
       "      <th>50%</th>\n",
       "      <td>5528.000000</td>\n",
       "      <td>1.000000</td>\n",
       "      <td>-1.000000</td>\n",
       "      <td>1.000000</td>\n",
       "      <td>1.000000</td>\n",
       "      <td>1.000000</td>\n",
       "      <td>-1.000000</td>\n",
       "      <td>0.000000</td>\n",
       "      <td>1.000000</td>\n",
       "      <td>-1.000000</td>\n",
       "      <td>...</td>\n",
       "      <td>1.000000</td>\n",
       "      <td>1.000000</td>\n",
       "      <td>1.000000</td>\n",
       "      <td>1.000000</td>\n",
       "      <td>1.000000</td>\n",
       "      <td>-1.000000</td>\n",
       "      <td>1.000000</td>\n",
       "      <td>0.000000</td>\n",
       "      <td>1.000000</td>\n",
       "      <td>1.000000</td>\n",
       "    </tr>\n",
       "    <tr>\n",
       "      <th>75%</th>\n",
       "      <td>8291.500000</td>\n",
       "      <td>1.000000</td>\n",
       "      <td>-1.000000</td>\n",
       "      <td>1.000000</td>\n",
       "      <td>1.000000</td>\n",
       "      <td>1.000000</td>\n",
       "      <td>-1.000000</td>\n",
       "      <td>1.000000</td>\n",
       "      <td>1.000000</td>\n",
       "      <td>1.000000</td>\n",
       "      <td>...</td>\n",
       "      <td>1.000000</td>\n",
       "      <td>1.000000</td>\n",
       "      <td>1.000000</td>\n",
       "      <td>1.000000</td>\n",
       "      <td>1.000000</td>\n",
       "      <td>1.000000</td>\n",
       "      <td>1.000000</td>\n",
       "      <td>1.000000</td>\n",
       "      <td>1.000000</td>\n",
       "      <td>1.000000</td>\n",
       "    </tr>\n",
       "    <tr>\n",
       "      <th>max</th>\n",
       "      <td>11055.000000</td>\n",
       "      <td>1.000000</td>\n",
       "      <td>1.000000</td>\n",
       "      <td>1.000000</td>\n",
       "      <td>1.000000</td>\n",
       "      <td>1.000000</td>\n",
       "      <td>1.000000</td>\n",
       "      <td>1.000000</td>\n",
       "      <td>1.000000</td>\n",
       "      <td>1.000000</td>\n",
       "      <td>...</td>\n",
       "      <td>1.000000</td>\n",
       "      <td>1.000000</td>\n",
       "      <td>1.000000</td>\n",
       "      <td>1.000000</td>\n",
       "      <td>1.000000</td>\n",
       "      <td>1.000000</td>\n",
       "      <td>1.000000</td>\n",
       "      <td>1.000000</td>\n",
       "      <td>1.000000</td>\n",
       "      <td>1.000000</td>\n",
       "    </tr>\n",
       "  </tbody>\n",
       "</table>\n",
       "<p>8 rows × 32 columns</p>\n",
       "</div>"
      ],
      "text/plain": [
       "                 ID    IP Address    URL Length  Shortening Service  \\\n",
       "count  11055.000000  11055.000000  11055.000000        11055.000000   \n",
       "mean    5528.000000      0.313795     -0.633198            0.738761   \n",
       "std     3191.447947      0.949534      0.766095            0.673998   \n",
       "min        1.000000     -1.000000     -1.000000           -1.000000   \n",
       "25%     2764.500000     -1.000000     -1.000000            1.000000   \n",
       "50%     5528.000000      1.000000     -1.000000            1.000000   \n",
       "75%     8291.500000      1.000000     -1.000000            1.000000   \n",
       "max    11055.000000      1.000000      1.000000            1.000000   \n",
       "\n",
       "           @ Symbol   // Redirect  Prefix/Suffix    Sub-Domain  \\\n",
       "count  11055.000000  11055.000000   11055.000000  11055.000000   \n",
       "mean       0.700588      0.741474      -0.734962      0.063953   \n",
       "std        0.713598      0.671011       0.678139      0.817518   \n",
       "min       -1.000000     -1.000000      -1.000000     -1.000000   \n",
       "25%        1.000000      1.000000      -1.000000     -1.000000   \n",
       "50%        1.000000      1.000000      -1.000000      0.000000   \n",
       "75%        1.000000      1.000000      -1.000000      1.000000   \n",
       "max        1.000000      1.000000       1.000000      1.000000   \n",
       "\n",
       "       SSL Final State  Domain Registration  ...  Popup Window        iframe  \\\n",
       "count     11055.000000         11055.000000  ...  11055.000000  11055.000000   \n",
       "mean          0.250927            -0.336771  ...      0.613388      0.816915   \n",
       "std           0.911892             0.941629  ...      0.789818      0.576784   \n",
       "min          -1.000000            -1.000000  ...     -1.000000     -1.000000   \n",
       "25%          -1.000000            -1.000000  ...      1.000000      1.000000   \n",
       "50%           1.000000            -1.000000  ...      1.000000      1.000000   \n",
       "75%           1.000000             1.000000  ...      1.000000      1.000000   \n",
       "max           1.000000             1.000000  ...      1.000000      1.000000   \n",
       "\n",
       "         Domain Age    DNS Record   Web Traffic     Page Rank  Google Index  \\\n",
       "count  11055.000000  11055.000000  11055.000000  11055.000000  11055.000000   \n",
       "mean       0.061239      0.377114      0.287291     -0.483673      0.721574   \n",
       "std        0.998168      0.926209      0.827733      0.875289      0.692369   \n",
       "min       -1.000000     -1.000000     -1.000000     -1.000000     -1.000000   \n",
       "25%       -1.000000     -1.000000      0.000000     -1.000000      1.000000   \n",
       "50%        1.000000      1.000000      1.000000     -1.000000      1.000000   \n",
       "75%        1.000000      1.000000      1.000000      1.000000      1.000000   \n",
       "max        1.000000      1.000000      1.000000      1.000000      1.000000   \n",
       "\n",
       "       Links to Page  Statistical Report        Result  \n",
       "count   11055.000000        11055.000000  11055.000000  \n",
       "mean        0.344007            0.719584      0.113885  \n",
       "std         0.569944            0.694437      0.993539  \n",
       "min        -1.000000           -1.000000     -1.000000  \n",
       "25%         0.000000            1.000000     -1.000000  \n",
       "50%         0.000000            1.000000      1.000000  \n",
       "75%         1.000000            1.000000      1.000000  \n",
       "max         1.000000            1.000000      1.000000  \n",
       "\n",
       "[8 rows x 32 columns]"
      ]
     },
     "execution_count": 3,
     "metadata": {},
     "output_type": "execute_result"
    }
   ],
   "source": [
    "df = pd.read_csv('phishing_data.csv')\n",
    "\n",
    "\n",
    "cols = ['ID', 'IP Address', 'URL Length', 'Shortening Service', '@ Symbol', '// Redirect', 'Prefix/Suffix', 'Sub-Domain', 'SSL Final State',\n",
    "       'Domain Registration', 'Favicon', 'Port', 'HTTPS Token', 'Request URL', 'URL of Anchor',\n",
    "       'Links in Tags', 'SFH', 'Submitting to Email', 'Abnormal URL', 'Redirect', 'On Mouseover',\n",
    "       'Right Click', 'Popup Window', 'iframe', 'Domain Age', 'DNS Record', 'Web Traffic', 'Page Rank',\n",
    "       'Google Index', 'Links to Page', 'Statistical Report', 'Result']\n",
    "\n",
    "df.columns = cols\n",
    "df.head()\n",
    "df.describe()\n"
   ]
  },
  {
   "cell_type": "markdown",
   "metadata": {},
   "source": [
    "### Update and encode input features"
   ]
  },
  {
   "cell_type": "code",
   "execution_count": 4,
   "metadata": {},
   "outputs": [
    {
     "data": {
      "text/plain": [
       "Index(['IP Address', 'URL Length', 'Shortening Service', '@ Symbol',\n",
       "       '// Redirect', 'Prefix/Suffix', 'Sub-Domain', 'SSL Final State',\n",
       "       'Domain Registration', 'Favicon', 'Port', 'HTTPS Token', 'Request URL',\n",
       "       'URL of Anchor', 'Links in Tags', 'SFH', 'Submitting to Email',\n",
       "       'Abnormal URL', 'Redirect', 'On Mouseover', 'Right Click',\n",
       "       'Popup Window', 'iframe', 'Domain Age', 'DNS Record', 'Web Traffic',\n",
       "       'Page Rank', 'Google Index', 'Links to Page', 'Statistical Report',\n",
       "       'Result'],\n",
       "      dtype='object')"
      ]
     },
     "execution_count": 4,
     "metadata": {},
     "output_type": "execute_result"
    }
   ],
   "source": [
    "# use lambda function for ordinal data to make anything that falls within arb parameters == 1 or == 0\n",
    "# x = 0 means \"not phishing\"\n",
    "# binary values\n",
    "df['IP Address'] = df['IP Address'].apply(lambda x: 0 if x == -1 else 1)\n",
    "df['Shortening Service'] = df['Shortening Service'].apply(lambda x: 0 if x == -1 else 1)\n",
    "df['@ Symbol'] = df['@ Symbol'].apply(lambda x: 0 if x == -1 else 1)\n",
    "df['// Redirect'] = df['// Redirect'].apply(lambda x: 0 if x == -1 else 1)\n",
    "df['Prefix/Suffix'] = df['Prefix/Suffix'].apply(lambda x: 0 if x == -1 else 1)\n",
    "df['Domain Registration'] = df['Domain Registration'].apply(lambda x: 0 if x == -1 else 1)\n",
    "df['Favicon'] = df['Favicon'].apply(lambda x: 0 if x == -1 else 1)\n",
    "df['Port'] = df['Port'].apply(lambda x: 0 if x == -1 else 1)\n",
    "df['HTTPS Token'] = df['HTTPS Token'].apply(lambda x: 0 if x == -1 else 1)\n",
    "df['Request URL'] = df['Request URL'].apply(lambda x: 0 if x == -1 else 1)\n",
    "df['Submitting to Email'] = df['Submitting to Email'].apply(lambda x: 0 if x == -1 else 1)\n",
    "df['Abnormal URL'] = df['Abnormal URL'].apply(lambda x: 0 if x == -1 else 1)\n",
    "df['Redirect'] = df['Redirect'].apply(lambda x: 0 if x == -1 else 1)\n",
    "df['On Mouseover'] = df['On Mouseover'].apply(lambda x: 0 if x == -1 else 1)\n",
    "df['Right Click'] = df['Right Click'].apply(lambda x: 0 if x == -1 else 1)\n",
    "df['Popup Window'] = df['Popup Window'].apply(lambda x: 0 if x == -1 else 1)\n",
    "df['iframe'] = df['iframe'].apply(lambda x: 0 if x == -1 else 1)\n",
    "df['Domain Age'] = df['Domain Age'].apply(lambda x: 0 if x == -1 else 1)\n",
    "df['DNS Record'] = df['DNS Record'].apply(lambda x: 0 if x == -1 else 1)\n",
    "df['Page Rank'] = df['Page Rank'].apply(lambda x: 0 if x == -1 else 1)\n",
    "df['Google Index'] = df['Google Index'].apply(lambda x: 0 if x == -1 else 1)\n",
    "df['Links to Page'] = df['Links to Page'].apply(lambda x: 0 if x == -1 else 1)\n",
    "df['Statistical Report'] = df['Statistical Report'].apply(lambda x: 0 if x == -1 else 1)\n",
    "df['Result'] = df['Result'].apply(lambda x: 0 if x == -1 else 1)\n",
    "\n",
    "# ordinal values\n",
    "df['URL Length'] = df['URL Length'].apply(lambda x: 0 if x == -1 else 1)\n",
    "df['Sub-Domain'] = df['Sub-Domain'].apply(lambda x: 0 if x == -1 else 1)\n",
    "df['SSL Final State'] = df['SSL Final State'].apply(lambda x: 0 if x == 1 else 1)\n",
    "df['URL of Anchor'] = df['URL of Anchor'].apply(lambda x: 0 if x == -1 else 1)\n",
    "df['Links in Tags'] = df['Links in Tags'].apply(lambda x: 0 if x == -1 else 1)\n",
    "df['SFH'] = df['SFH'].apply(lambda x: 0 if x == 1 else 1)\n",
    "df['Web Traffic'] = df['Web Traffic'].apply(lambda x: 0 if x == -1 else 1)\n",
    "\n",
    "drop_cols = ['ID']\n",
    "df = df.drop(columns=drop_cols, axis=1)\n",
    "df.columns"
   ]
  },
  {
   "cell_type": "code",
   "execution_count": 5,
   "metadata": {},
   "outputs": [],
   "source": [
    "result_index = list(df.columns).index(\"Result\")\n",
    "train_cols = list(df.columns[0:result_index]) + list(df.columns[result_index+1:])\n",
    "label = df.columns[result_index]\n",
    "X_df = df[list(train_cols)]\n",
    "y_df = df[label]"
   ]
  },
  {
   "cell_type": "markdown",
   "metadata": {},
   "source": [
    "### Convert the response / output variable to a categorical variable"
   ]
  },
  {
   "cell_type": "code",
   "execution_count": 6,
   "metadata": {},
   "outputs": [],
   "source": [
    "dataset = {\n",
    "        'X': X_df,\n",
    "        'y': y_df,\n",
    "}\n",
    "\n",
    "# create a train/test split\n",
    "seed = 1\n",
    "X_train, X_test, y_train, y_test = train_test_split(dataset['X'],dataset['y'], test_size=0.25, random_state=seed)"
   ]
  },
  {
   "cell_type": "markdown",
   "metadata": {},
   "source": [
    "## SVM"
   ]
  },
  {
   "cell_type": "code",
   "execution_count": 7,
   "metadata": {},
   "outputs": [
    {
     "data": {
      "text/plain": [
       "SVC(kernel='linear')"
      ]
     },
     "execution_count": 7,
     "metadata": {},
     "output_type": "execute_result"
    }
   ],
   "source": [
    "from sklearn import svm\n",
    "\n",
    "clf = svm.SVC(kernel='linear')\n",
    "clf.fit(X_train, y_train)"
   ]
  },
  {
   "cell_type": "code",
   "execution_count": 8,
   "metadata": {},
   "outputs": [
    {
     "name": "stdout",
     "output_type": "stream",
     "text": [
      "The accuracy of the model on the training set is:  0.91931\n",
      "The accuracy of the model on the test set is:  0.91064\n"
     ]
    }
   ],
   "source": [
    "#Training accuracy\n",
    "train_pred = clf.predict(X_train).tolist()\n",
    "same_train = sum(x == y for x, y in zip(train_pred, y_train.tolist()))\n",
    "accuracy_train = round(same_train/ len(train_pred), 5)\n",
    "\n",
    "#Test set accuracy\n",
    "predictions = clf.predict(X_test).tolist()\n",
    "same_test = sum(x == y for x, y in zip(predictions, y_test.tolist()))\n",
    "accuracy_test = round(same_test / len(predictions), 5)\n",
    "\n",
    "print(\"The accuracy of the model on the training set is: \", accuracy_train)\n",
    "print(\"The accuracy of the model on the test set is: \", accuracy_test)"
   ]
  },
  {
   "cell_type": "markdown",
   "metadata": {},
   "source": [
    "## SVM Feature Importance"
   ]
  },
  {
   "cell_type": "code",
   "execution_count": 9,
   "metadata": {},
   "outputs": [
    {
     "data": {
      "text/plain": [
       "<AxesSubplot:>"
      ]
     },
     "execution_count": 9,
     "metadata": {},
     "output_type": "execute_result"
    },
    {
     "data": {
      "image/png": "[encoded data removed]",
      "text/plain": [
       "<Figure size 864x576 with 1 Axes>"
      ]
     },
     "metadata": {
      "needs_background": "light"
     },
     "output_type": "display_data"
    }
   ],
   "source": [
    "plt.figure(figsize=(12,8))\n",
    "# Top 10 most important features\n",
    "pd.Series(abs(clf.coef_[0]), index=dataset['X'].columns).nlargest(20).plot(kind='barh')"
   ]
  },
  {
   "cell_type": "markdown",
   "metadata": {},
   "source": [
    "## Logistic Regression"
   ]
  },
  {
   "cell_type": "code",
   "execution_count": 10,
   "metadata": {},
   "outputs": [],
   "source": [
    "from sklearn.linear_model import LogisticRegression\n",
    "\n",
    "lr = LogisticRegression(random_state=0,max_iter=10000).fit(X_train, y_train)"
   ]
  },
  {
   "cell_type": "code",
   "execution_count": 11,
   "metadata": {},
   "outputs": [
    {
     "name": "stdout",
     "output_type": "stream",
     "text": [
      "The accuracy of the model on the training set is:  0.93004\n",
      "The accuracy of the model on the test set is:  0.92221\n"
     ]
    }
   ],
   "source": [
    "#Training accuracy\n",
    "train_pred = lr.predict(X_train).tolist()\n",
    "same_train = sum(x == y for x, y in zip(train_pred, y_train.tolist()))\n",
    "accuracy_train = round(same_train/ len(train_pred), 5)\n",
    "\n",
    "#Test set accuracy\n",
    "predictions = lr.predict(X_test).tolist()\n",
    "same_test = sum(x == y for x, y in zip(predictions, y_test.tolist()))\n",
    "accuracy_test = round(same_test / len(predictions), 5)\n",
    "\n",
    "print(\"The accuracy of the model on the training set is: \", accuracy_train)\n",
    "print(\"The accuracy of the model on the test set is: \", accuracy_test)"
   ]
  },
  {
   "cell_type": "markdown",
   "metadata": {},
   "source": [
    "## Logistic Regression Feature Importance"
   ]
  },
  {
   "cell_type": "code",
   "execution_count": 12,
   "metadata": {},
   "outputs": [
    {
     "data": {
      "text/plain": [
       "<AxesSubplot:>"
      ]
     },
     "execution_count": 12,
     "metadata": {},
     "output_type": "execute_result"
    },
    {
     "data": {
      "image/png": "[encoded data removed]",
      "text/plain": [
       "<Figure size 864x576 with 1 Axes>"
      ]
     },
     "metadata": {
      "needs_background": "light"
     },
     "output_type": "display_data"
    }
   ],
   "source": [
    "plt.figure(figsize=(12,8))\n",
    "# Top 10 most important features\n",
    "pd.Series(abs(lr.coef_[0]), index=dataset['X'].columns).nlargest(20).plot(kind='barh')"
   ]
  },
  {
   "cell_type": "markdown",
   "metadata": {},
   "source": [
    "## Decision Tree"
   ]
  },
  {
   "cell_type": "code",
   "execution_count": 13,
   "metadata": {},
   "outputs": [],
   "source": [
    "from sklearn import tree\n",
    "dtree = tree.DecisionTreeClassifier()\n",
    "dtree = dtree.fit(X_train, y_train)"
   ]
  },
  {
   "cell_type": "code",
   "execution_count": 14,
   "metadata": {},
   "outputs": [
    {
     "name": "stdout",
     "output_type": "stream",
     "text": [
      "The accuracy of the model on the training set is:  0.97371\n",
      "The accuracy of the model on the test set is:  0.94609\n"
     ]
    }
   ],
   "source": [
    "#Training accuracy\n",
    "train_pred = dtree.predict(X_train).tolist()\n",
    "same_train = sum(x == y for x, y in zip(train_pred, y_train.tolist()))\n",
    "accuracy_train = round(same_train/ len(train_pred), 5)\n",
    "\n",
    "#Test set accuracy\n",
    "predictions = dtree.predict(X_test).tolist()\n",
    "same_test = sum(x == y for x, y in zip(predictions, y_test.tolist()))\n",
    "accuracy_test = round(same_test / len(predictions), 5)\n",
    "\n",
    "print(\"The accuracy of the model on the training set is: \", accuracy_train)\n",
    "print(\"The accuracy of the model on the test set is: \", accuracy_test)"
   ]
  },
  {
   "cell_type": "markdown",
   "metadata": {},
   "source": [
    "## Decision Tree Feature Importances"
   ]
  },
  {
   "cell_type": "code",
   "execution_count": 15,
   "metadata": {
    "scrolled": false
   },
   "outputs": [
    {
     "data": {
      "text/plain": [
       "<AxesSubplot:>"
      ]
     },
     "execution_count": 15,
     "metadata": {},
     "output_type": "execute_result"
    },
    {
     "data": {
      "image/png": "[encoded data removed]",
      "text/plain": [
       "<Figure size 864x576 with 1 Axes>"
      ]
     },
     "metadata": {
      "needs_background": "light"
     },
     "output_type": "display_data"
    }
   ],
   "source": [
    "plt.figure(figsize=(12,8))\n",
    "# Top 10 most important features\n",
    "pd.Series(abs(dtree.feature_importances_), index=dataset['X'].columns).nlargest(20).plot(kind='barh')"
   ]
  },
  {
   "cell_type": "markdown",
   "metadata": {
    "scrolled": true
   },
   "source": [
    "## GAMs"
   ]
  },
  {
   "cell_type": "code",
   "execution_count": 16,
   "metadata": {},
   "outputs": [
    {
     "data": {
      "text/plain": [
       "ExplainableBoostingClassifier(feature_names=['IP Address', 'URL Length',\n",
       "                                             'Shortening Service', '@ Symbol',\n",
       "                                             '// Redirect', 'Prefix/Suffix',\n",
       "                                             'Sub-Domain', 'SSL Final State',\n",
       "                                             'Domain Registration', 'Favicon',\n",
       "                                             'Port', 'HTTPS Token',\n",
       "                                             'Request URL', 'URL of Anchor',\n",
       "                                             'Links in Tags', 'SFH',\n",
       "                                             'Submitting to Email',\n",
       "                                             'Abnormal URL', 'Redirect',\n",
       "                                             'On Mouseover', 'Right Click',\n",
       "                                             'Popup Window', 'iframe',...\n",
       "                                             'categorical', 'categorical',\n",
       "                                             'categorical', 'categorical',\n",
       "                                             'categorical', 'categorical',\n",
       "                                             'categorical', 'categorical',\n",
       "                                             'categorical', 'categorical',\n",
       "                                             'categorical', 'categorical',\n",
       "                                             'categorical', 'categorical',\n",
       "                                             'categorical', 'categorical',\n",
       "                                             'categorical', 'categorical',\n",
       "                                             'categorical', 'categorical',\n",
       "                                             'categorical', 'categorical',\n",
       "                                             'categorical', 'categorical',\n",
       "                                             'categorical', 'categorical', ...])"
      ]
     },
     "execution_count": 16,
     "metadata": {},
     "output_type": "execute_result"
    }
   ],
   "source": [
    "from interpret.glassbox import ExplainableBoostingClassifier\n",
    "from sklearn.model_selection import train_test_split\n",
    "\n",
    "# create a train/test split\n",
    "seed = 1\n",
    "X_train, X_test, y_train, y_test = train_test_split(dataset['X'],dataset['y'], test_size=0.25, random_state=seed)\n",
    "\n",
    "# train a GAM for the training dataset\n",
    "ebm = ExplainableBoostingClassifier()\n",
    "\n",
    "ebm.fit(X_train, y_train)"
   ]
  },
  {
   "cell_type": "code",
   "execution_count": 17,
   "metadata": {
    "scrolled": false
   },
   "outputs": [
    {
     "name": "stderr",
     "output_type": "stream",
     "text": [
      "C:\\Users\\mrcon\\AppData\\Roaming\\Python\\Python38\\site-packages\\interpret\\visual\\udash.py:5: UserWarning: \n",
      "The dash_html_components package is deprecated. Please replace\n",
      "`import dash_html_components as html` with `from dash import html`\n",
      "  import dash_html_components as html\n",
      "C:\\Users\\mrcon\\AppData\\Roaming\\Python\\Python38\\site-packages\\interpret\\visual\\udash.py:6: UserWarning: \n",
      "The dash_core_components package is deprecated. Please replace\n",
      "`import dash_core_components as dcc` with `from dash import dcc`\n",
      "  import dash_core_components as dcc\n",
      "C:\\Users\\mrcon\\AppData\\Roaming\\Python\\Python38\\site-packages\\interpret\\visual\\udash.py:7: UserWarning: \n",
      "The dash_table package is deprecated. Please replace\n",
      "`import dash_table` with `from dash import dash_table`\n",
      "\n",
      "Also, if you're using any of the table format helpers (e.g. Group), replace \n",
      "`from dash_table.Format import Group` with \n",
      "`from dash.dash_table.Format import Group`\n",
      "  import dash_table as dt\n"
     ]
    },
    {
     "data": {
      "text/html": [
       "<!-- http://127.0.0.1:7520/2766132544272/ -->\n",
       "<iframe src=\"http://127.0.0.1:7520/2766132544272/\" width=100% height=800 frameBorder=\"0\"></iframe>"
      ]
     },
     "metadata": {},
     "output_type": "display_data"
    }
   ],
   "source": [
    "from interpret import show \n",
    "\n",
    "ebm_global = ebm.explain_global()\n",
    "show(ebm_global)"
   ]
  },
  {
   "cell_type": "code",
   "execution_count": 18,
   "metadata": {},
   "outputs": [
    {
     "data": {
      "text/html": [
       "<!-- http://127.0.0.1:7520/2766132660160/ -->\n",
       "<iframe src=\"http://127.0.0.1:7520/2766132660160/\" width=100% height=800 frameBorder=\"0\"></iframe>"
      ]
     },
     "metadata": {},
     "output_type": "display_data"
    }
   ],
   "source": [
    "incorrect_indices = [index for index, value in enumerate(zip(predictions, y_test.tolist())) if value[0] != value[1]]\n",
    "test_indices = incorrect_indices[:20]\n",
    "\n",
    "ebm_local = ebm.explain_local(X_test.iloc[test_indices, :], y_test.iloc[test_indices], name='EBM')\n",
    "show(ebm_local)"
   ]
  },
  {
   "cell_type": "code",
   "execution_count": null,
   "metadata": {},
   "outputs": [],
   "source": []
  }
 ],
 "metadata": {
  "kernelspec": {
   "display_name": "Python 3",
   "language": "python",
   "name": "python3"
  },
  "language_info": {
   "codemirror_mode": {
    "name": "ipython",
    "version": 3
   },
   "file_extension": ".py",
   "mimetype": "text/x-python",
   "name": "python",
   "nbconvert_exporter": "python",
   "pygments_lexer": "ipython3",
   "version": "3.8.8"
  }
 },
 "nbformat": 4,
 "nbformat_minor": 4
}
