{
 "cells": [
  {
   "cell_type": "code",
   "execution_count": 41,
   "id": "05768d1e",
   "metadata": {},
   "outputs": [],
   "source": [
    "# libraries\n",
    "import csv\n",
    "import numpy as np\n",
    "import pandas as pd\n",
    "from random import shuffle\n",
    "from interpret.glassbox import ExplainableBoostingClassifier\n",
    "from sklearn.model_selection import train_test_split\n",
    "from interpret import show "
   ]
  },
  {
   "cell_type": "code",
   "execution_count": 42,
   "id": "1c3c7e87",
   "metadata": {},
   "outputs": [],
   "source": [
    "# destination: No Urgent Place, Home, Work\n",
    "# passanger: Alone, Friend(s), Kid(s), Partner (who are the passengers in the car)\n",
    "# weather: Sunny, Rainy, Snowy\n",
    "# temperature:55, 80, 30\n",
    "# time: 2PM, 10AM, 6PM, 7AM, 10PM\n",
    "# coupon: Restaurant(<$20), Coffee House, Carry out & Take away, Bar, Restaurant($20-$50)\n",
    "# expiration: 1d, 2h (the coupon expires in 1 day or in 2 hours)\n",
    "# gender: Female, Male\n",
    "# age: 21, 46, 26, 31, 41, 50plus, 36, below21\n",
    "# maritalStatus: Unmarried partner, Single, Married partner, Divorced, Widowed\n",
    "# has_Children:1, 0\n",
    "# education: Some college - no degree, Bachelors degree, Associates degree, High School Graduate, Graduate degree (Masters or Doctorate), Some High School\n",
    "# occupation: Unemployed, Architecture & Engineering, Student,\n",
    "# Education&Training&Library, Healthcare Support,\n",
    "# Healthcare Practitioners & Technical, Sales & Related, Management,\n",
    "# Arts Design Entertainment Sports & Media, Computer & Mathematical,\n",
    "# Life Physical Social Science, Personal Care & Service,\n",
    "# Community & Social Services, Office & Administrative Support,\n",
    "# Construction & Extraction, Legal, Retired,\n",
    "# Installation Maintenance & Repair, Transportation & Material Moving,\n",
    "# Business & Financial, Protective Service,\n",
    "# Food Preparation & Serving Related, Production Occupations,\n",
    "# Building & Grounds Cleaning & Maintenance, Farming Fishing & Forestry\n",
    "# income: $37500 - $49999, $62500 - $74999, $12500 - $24999, $75000 - $87499,\n",
    "# $50000 - $62499, $25000 - $37499, $100000 or More, $87500 - $99999, Less than $12500\n",
    "# Bar: never, less1, 1~3, gt8, nan4~8 (feature meaning: how many times do you go to a bar every month?)\n",
    "# CoffeeHouse: never, less1, 4~8, 1~3, gt8, nan (feature meaning: how many times do you go to a coffeehouse every month?)\n",
    "# CarryAway:n4~8, 1~3, gt8, less1, never (feature meaning: how many times do you get take-away food every month?)\n",
    "# RestaurantLessThan20: 4~8, 1~3, less1, gt8, never (feature meaning: how many times do you go to a restaurant with an average expense per person of less than $20 every month?)\n",
    "# Restaurant20To50: 1~3, less1, never, gt8, 4~8, nan (feature meaning: how many times do you go to a restaurant with average expense per person of $20 - $50 every month?)\n",
    "# toCoupon_GEQ15min:0,1 (feature meaning: driving distance to the restaurant/bar for using the coupon is greater than 15 minutes)\n",
    "# toCoupon_GEQ25min:0, 1 (feature meaning: driving distance to the restaurant/bar for using the coupon is greater than 25 minutes)\n",
    "# direction_same:0, 1 (feature meaning: whether the restaurant/bar is in the same direction as your current destination)\n",
    "# direction_opp:1, 0 (feature meaning: whether the restaurant/bar is in the same direction as your current destination)\n",
    "# Y:1, 0 (whether the coupon is accepted)"
   ]
  },
  {
   "cell_type": "code",
   "execution_count": 43,
   "id": "7b5c4e5a",
   "metadata": {},
   "outputs": [
    {
     "name": "stdout",
     "output_type": "stream",
     "text": [
      "<class 'pandas.core.frame.DataFrame'>\n",
      "RangeIndex: 12684 entries, 0 to 12683\n",
      "Data columns (total 26 columns):\n",
      " #   Column                Non-Null Count  Dtype \n",
      "---  ------                --------------  ----- \n",
      " 0   destination           12684 non-null  object\n",
      " 1   passenger             12684 non-null  object\n",
      " 2   weather               12684 non-null  object\n",
      " 3   temperature           12684 non-null  int64 \n",
      " 4   time                  12684 non-null  object\n",
      " 5   coupon                12684 non-null  object\n",
      " 6   expiration            12684 non-null  object\n",
      " 7   gender                12684 non-null  object\n",
      " 8   age                   12684 non-null  object\n",
      " 9   maritalStatus         12684 non-null  object\n",
      " 10  has_children          12684 non-null  int64 \n",
      " 11  education             12684 non-null  object\n",
      " 12  occupation            12684 non-null  object\n",
      " 13  income                12684 non-null  object\n",
      " 14  car                   108 non-null    object\n",
      " 15  Bar                   12577 non-null  object\n",
      " 16  CoffeeHouse           12467 non-null  object\n",
      " 17  CarryAway             12533 non-null  object\n",
      " 18  RestaurantLessThan20  12554 non-null  object\n",
      " 19   Restaurant20To50     12495 non-null  object\n",
      " 20  toCoupon_GEQ5min      12684 non-null  int64 \n",
      " 21  toCoupon_GEQ15min     12684 non-null  int64 \n",
      " 22  toCoupon_GEQ25min     12684 non-null  int64 \n",
      " 23  direction_same        12684 non-null  int64 \n",
      " 24  direction_opp         12684 non-null  int64 \n",
      " 25  Y                     12684 non-null  int64 \n",
      "dtypes: int64(8), object(18)\n",
      "memory usage: 2.5+ MB\n"
     ]
    },
    {
     "data": {
      "text/html": [
       "<div>\n",
       "<style scoped>\n",
       "    .dataframe tbody tr th:only-of-type {\n",
       "        vertical-align: middle;\n",
       "    }\n",
       "\n",
       "    .dataframe tbody tr th {\n",
       "        vertical-align: top;\n",
       "    }\n",
       "\n",
       "    .dataframe thead th {\n",
       "        text-align: right;\n",
       "    }\n",
       "</style>\n",
       "<table border=\"1\" class=\"dataframe\">\n",
       "  <thead>\n",
       "    <tr style=\"text-align: right;\">\n",
       "      <th></th>\n",
       "      <th>destination</th>\n",
       "      <th>passenger</th>\n",
       "      <th>weather</th>\n",
       "      <th>temperature</th>\n",
       "      <th>time</th>\n",
       "      <th>coupon</th>\n",
       "      <th>expiration</th>\n",
       "      <th>gender</th>\n",
       "      <th>age</th>\n",
       "      <th>maritalStatus</th>\n",
       "      <th>has_children</th>\n",
       "      <th>education</th>\n",
       "      <th>occupation</th>\n",
       "      <th>income</th>\n",
       "      <th>car</th>\n",
       "      <th>Bar</th>\n",
       "      <th>CoffeeHouse</th>\n",
       "      <th>CarryAway</th>\n",
       "      <th>RestaurantLessThan20</th>\n",
       "      <th>Restaurant20To50</th>\n",
       "      <th>toCoupon_GEQ5min</th>\n",
       "      <th>toCoupon_GEQ15min</th>\n",
       "      <th>toCoupon_GEQ25min</th>\n",
       "      <th>direction_same</th>\n",
       "      <th>direction_opp</th>\n",
       "      <th>Y</th>\n",
       "    </tr>\n",
       "  </thead>\n",
       "  <tbody>\n",
       "    <tr>\n",
       "      <th>0</th>\n",
       "      <td>No Urgent Place</td>\n",
       "      <td>Alone</td>\n",
       "      <td>Sunny</td>\n",
       "      <td>55</td>\n",
       "      <td>2PM</td>\n",
       "      <td>Restaurant(&lt;20)</td>\n",
       "      <td>1d</td>\n",
       "      <td>Female</td>\n",
       "      <td>21</td>\n",
       "      <td>Unmarried partner</td>\n",
       "      <td>1</td>\n",
       "      <td>Some college - no degree</td>\n",
       "      <td>Unemployed</td>\n",
       "      <td>$37500 - $49999</td>\n",
       "      <td>NaN</td>\n",
       "      <td>never</td>\n",
       "      <td>never</td>\n",
       "      <td>NaN</td>\n",
       "      <td>4~8</td>\n",
       "      <td>1~3</td>\n",
       "      <td>1</td>\n",
       "      <td>0</td>\n",
       "      <td>0</td>\n",
       "      <td>0</td>\n",
       "      <td>1</td>\n",
       "      <td>1</td>\n",
       "    </tr>\n",
       "    <tr>\n",
       "      <th>1</th>\n",
       "      <td>No Urgent Place</td>\n",
       "      <td>Friend(s)</td>\n",
       "      <td>Sunny</td>\n",
       "      <td>80</td>\n",
       "      <td>10AM</td>\n",
       "      <td>Coffee House</td>\n",
       "      <td>2h</td>\n",
       "      <td>Female</td>\n",
       "      <td>21</td>\n",
       "      <td>Unmarried partner</td>\n",
       "      <td>1</td>\n",
       "      <td>Some college - no degree</td>\n",
       "      <td>Unemployed</td>\n",
       "      <td>$37500 - $49999</td>\n",
       "      <td>NaN</td>\n",
       "      <td>never</td>\n",
       "      <td>never</td>\n",
       "      <td>NaN</td>\n",
       "      <td>4~8</td>\n",
       "      <td>1~3</td>\n",
       "      <td>1</td>\n",
       "      <td>0</td>\n",
       "      <td>0</td>\n",
       "      <td>0</td>\n",
       "      <td>1</td>\n",
       "      <td>0</td>\n",
       "    </tr>\n",
       "    <tr>\n",
       "      <th>2</th>\n",
       "      <td>No Urgent Place</td>\n",
       "      <td>Friend(s)</td>\n",
       "      <td>Sunny</td>\n",
       "      <td>80</td>\n",
       "      <td>10AM</td>\n",
       "      <td>Carry out &amp; Take away</td>\n",
       "      <td>2h</td>\n",
       "      <td>Female</td>\n",
       "      <td>21</td>\n",
       "      <td>Unmarried partner</td>\n",
       "      <td>1</td>\n",
       "      <td>Some college - no degree</td>\n",
       "      <td>Unemployed</td>\n",
       "      <td>$37500 - $49999</td>\n",
       "      <td>NaN</td>\n",
       "      <td>never</td>\n",
       "      <td>never</td>\n",
       "      <td>NaN</td>\n",
       "      <td>4~8</td>\n",
       "      <td>1~3</td>\n",
       "      <td>1</td>\n",
       "      <td>1</td>\n",
       "      <td>0</td>\n",
       "      <td>0</td>\n",
       "      <td>1</td>\n",
       "      <td>1</td>\n",
       "    </tr>\n",
       "    <tr>\n",
       "      <th>3</th>\n",
       "      <td>No Urgent Place</td>\n",
       "      <td>Friend(s)</td>\n",
       "      <td>Sunny</td>\n",
       "      <td>80</td>\n",
       "      <td>2PM</td>\n",
       "      <td>Coffee House</td>\n",
       "      <td>2h</td>\n",
       "      <td>Female</td>\n",
       "      <td>21</td>\n",
       "      <td>Unmarried partner</td>\n",
       "      <td>1</td>\n",
       "      <td>Some college - no degree</td>\n",
       "      <td>Unemployed</td>\n",
       "      <td>$37500 - $49999</td>\n",
       "      <td>NaN</td>\n",
       "      <td>never</td>\n",
       "      <td>never</td>\n",
       "      <td>NaN</td>\n",
       "      <td>4~8</td>\n",
       "      <td>1~3</td>\n",
       "      <td>1</td>\n",
       "      <td>1</td>\n",
       "      <td>0</td>\n",
       "      <td>0</td>\n",
       "      <td>1</td>\n",
       "      <td>0</td>\n",
       "    </tr>\n",
       "    <tr>\n",
       "      <th>4</th>\n",
       "      <td>No Urgent Place</td>\n",
       "      <td>Friend(s)</td>\n",
       "      <td>Sunny</td>\n",
       "      <td>80</td>\n",
       "      <td>2PM</td>\n",
       "      <td>Coffee House</td>\n",
       "      <td>1d</td>\n",
       "      <td>Female</td>\n",
       "      <td>21</td>\n",
       "      <td>Unmarried partner</td>\n",
       "      <td>1</td>\n",
       "      <td>Some college - no degree</td>\n",
       "      <td>Unemployed</td>\n",
       "      <td>$37500 - $49999</td>\n",
       "      <td>NaN</td>\n",
       "      <td>never</td>\n",
       "      <td>never</td>\n",
       "      <td>NaN</td>\n",
       "      <td>4~8</td>\n",
       "      <td>1~3</td>\n",
       "      <td>1</td>\n",
       "      <td>1</td>\n",
       "      <td>0</td>\n",
       "      <td>0</td>\n",
       "      <td>1</td>\n",
       "      <td>0</td>\n",
       "    </tr>\n",
       "  </tbody>\n",
       "</table>\n",
       "</div>"
      ],
      "text/plain": [
       "       destination  passenger weather  temperature  time  \\\n",
       "0  No Urgent Place      Alone   Sunny           55   2PM   \n",
       "1  No Urgent Place  Friend(s)   Sunny           80  10AM   \n",
       "2  No Urgent Place  Friend(s)   Sunny           80  10AM   \n",
       "3  No Urgent Place  Friend(s)   Sunny           80   2PM   \n",
       "4  No Urgent Place  Friend(s)   Sunny           80   2PM   \n",
       "\n",
       "                  coupon expiration  gender age      maritalStatus  \\\n",
       "0        Restaurant(<20)         1d  Female  21  Unmarried partner   \n",
       "1           Coffee House         2h  Female  21  Unmarried partner   \n",
       "2  Carry out & Take away         2h  Female  21  Unmarried partner   \n",
       "3           Coffee House         2h  Female  21  Unmarried partner   \n",
       "4           Coffee House         1d  Female  21  Unmarried partner   \n",
       "\n",
       "   has_children                 education  occupation           income  car  \\\n",
       "0             1  Some college - no degree  Unemployed  $37500 - $49999  NaN   \n",
       "1             1  Some college - no degree  Unemployed  $37500 - $49999  NaN   \n",
       "2             1  Some college - no degree  Unemployed  $37500 - $49999  NaN   \n",
       "3             1  Some college - no degree  Unemployed  $37500 - $49999  NaN   \n",
       "4             1  Some college - no degree  Unemployed  $37500 - $49999  NaN   \n",
       "\n",
       "     Bar CoffeeHouse CarryAway RestaurantLessThan20  Restaurant20To50  \\\n",
       "0  never       never       NaN                  4~8               1~3   \n",
       "1  never       never       NaN                  4~8               1~3   \n",
       "2  never       never       NaN                  4~8               1~3   \n",
       "3  never       never       NaN                  4~8               1~3   \n",
       "4  never       never       NaN                  4~8               1~3   \n",
       "\n",
       "   toCoupon_GEQ5min  toCoupon_GEQ15min  toCoupon_GEQ25min  direction_same  \\\n",
       "0                 1                  0                  0               0   \n",
       "1                 1                  0                  0               0   \n",
       "2                 1                  1                  0               0   \n",
       "3                 1                  1                  0               0   \n",
       "4                 1                  1                  0               0   \n",
       "\n",
       "   direction_opp  Y  \n",
       "0              1  1  \n",
       "1              1  0  \n",
       "2              1  1  \n",
       "3              1  0  \n",
       "4              1  0  "
      ]
     },
     "execution_count": 43,
     "metadata": {},
     "output_type": "execute_result"
    }
   ],
   "source": [
    "df = pd.read_csv('coupon-recommendation.csv',sep = ',')\n",
    "\n",
    "cols = ['destination', 'passenger', 'weather', 'temperature', 'time', 'coupon', 'expiration', 'gender', 'age', \n",
    "        'maritalStatus', 'has_children', 'education', 'occupation', 'income', 'car', 'Bar', 'CoffeeHouse',\n",
    "        'CarryAway', 'RestaurantLessThan20', ' Restaurant20To50', 'toCoupon_GEQ5min', 'toCoupon_GEQ15min', \n",
    "        'toCoupon_GEQ25min', 'direction_same', 'direction_opp', 'Y']\n",
    "\n",
    "df.columns = cols\n",
    "\n",
    "\n",
    "df.info()\n",
    "df.head()\n"
   ]
  },
  {
   "cell_type": "code",
   "execution_count": 44,
   "id": "f53c3347",
   "metadata": {},
   "outputs": [],
   "source": [
    "#destination = pd.get_dummies(df['destination'], prefix='destination')\n",
    "#passenger = pd.get_dummies(df['passenger'], prefix='passenger')\n",
    "#weather = pd.get_dummies(df['weather'], prefix='weather')\n",
    "#time = pd.get_dummies(df['time'], prefix='time')\n",
    "#coupon = pd.get_dummies(df['coupon'], prefix='coupon')\n",
    "#expiration = pd.get_dummies(df['expiration'], prefix='expiration')\n",
    "#gender = pd.get_dummies(df['gender'], prefix='gender')\n",
    "#age = pd.get_dummies(df['age'], prefix='age')\n",
    "#maritalStatus = pd.get_dummies(df['maritalStatus'], prefix='maritalStatus')\n",
    "#education = pd.get_dummies(df['education'], prefix='education')\n",
    "#occupation = pd.get_dummies(df['occupation'], prefix='occupation')\n",
    "#income = pd.get_dummies(df['income'], prefix='income')\n",
    "#car = pd.get_dummies(df['car'], prefix='car')\n",
    "#Bar = pd.get_dummies(df['Bar'], prefix='Bar')\n",
    "#CoffeeHouse = pd.get_dummies(df['CoffeeHouse'], prefix='CoffeeHouse')\n",
    "#CarryAway = pd.get_dummies(df['CarryAway'], prefix='CarryAway')\n",
    "#RestaurantLessThan20 = pd.get_dummies(df['RestaurantLessThan20'], prefix='RestaurantLessThan20')\n",
    "#Restaurant20To50 = pd.get_dummies(df[' Restaurant20To50'], prefix=' Restaurant20To50')\n",
    "\n",
    "\n",
    "\n",
    "#new_df = df.join([destination, passenger, weather, time, coupon, expiration, gender, age, maritalStatus, education,\n",
    "#                  occupation, income, car, Bar, CoffeeHouse, CarryAway, RestaurantLessThan20, Restaurant20To50])\n",
    "#drop_cols = ['destination', 'passenger', 'weather', 'time', 'coupon', 'expiration', 'gender', 'age', \n",
    "#            'maritalStatus', 'education', 'occupation', 'income', 'car', 'Bar', 'CoffeeHouse',\n",
    "#            'CarryAway', 'RestaurantLessThan20', ' Restaurant20To50']\n",
    "#new_df = new_df.drop(columns=drop_cols, axis=1)\n",
    "#new_df.columns\n",
    "\n",
    "#pd.set_option('display.max_columns', None)\n",
    "\n",
    "\n",
    "#new_df.info()\n",
    "#new_df.head(30)"
   ]
  },
  {
   "cell_type": "code",
   "execution_count": 45,
   "id": "98623596",
   "metadata": {},
   "outputs": [],
   "source": [
    "# Break dataset into train and test data\n",
    "\n",
    "acceptance_index = list(new_df.columns).index(\"Y\")\n",
    "train_cols = list(new_df.columns[0:acceptance_index]) + list(new_df.columns[acceptance_index+1:])\n",
    "label = new_df.columns[acceptance_index]\n",
    "X_df = new_df[list(train_cols)]\n",
    "y_df = new_df[label]"
   ]
  },
  {
   "cell_type": "code",
   "execution_count": 46,
   "id": "2a049838",
   "metadata": {},
   "outputs": [],
   "source": [
    "# y_df = y_df.apply(lambda x: \"low\" if x < 7.0 else (\"med\" if x <=15.0 else \"high\"))\n",
    "# y_df = y_df.apply(lambda x: \"low\" if x <= 10 else \"high\")"
   ]
  },
  {
   "cell_type": "code",
   "execution_count": null,
   "id": "25532479",
   "metadata": {},
   "outputs": [],
   "source": [
    "dataset = {\n",
    "        'X': X_df,\n",
    "        'y': y_df,\n",
    "}\n",
    "\n",
    "# create a train/test split\n",
    "seed = 1\n",
    "X_train, X_test, y_train, y_test = train_test_split(dataset['X'],dataset['y'], test_size=0.25, random_state=seed)"
   ]
  },
  {
   "cell_type": "markdown",
   "id": "b14ead8e",
   "metadata": {},
   "source": [
    "## SVM"
   ]
  },
  {
   "cell_type": "code",
   "execution_count": 53,
   "id": "f011749d",
   "metadata": {},
   "outputs": [
    {
     "data": {
      "text/plain": [
       "SVC(kernel='linear')"
      ]
     },
     "execution_count": 53,
     "metadata": {},
     "output_type": "execute_result"
    }
   ],
   "source": [
    "from sklearn import svm\n",
    "\n",
    "clf = svm.SVC(kernel='linear')\n",
    "clf.fit(X_train, y_train)"
   ]
  },
  {
   "cell_type": "code",
   "execution_count": 54,
   "id": "f7a5fbc0",
   "metadata": {},
   "outputs": [
    {
     "name": "stdout",
     "output_type": "stream",
     "text": [
      "The accuracy of the model on the training set is:  0.6961\n",
      "The accuracy of the model on the test set is:  0.69473\n"
     ]
    }
   ],
   "source": [
    "#Training accuracy\n",
    "train_pred = clf.predict(X_train).tolist()\n",
    "same_train = sum(x == y for x, y in zip(train_pred, y_train.tolist()))\n",
    "accuracy_train = round(same_train/ len(train_pred), 5)\n",
    "\n",
    "#Test set accuracy\n",
    "predictions = clf.predict(X_test).tolist()\n",
    "same_test = sum(x == y for x, y in zip(predictions, y_test.tolist()))\n",
    "accuracy_test = round(same_test / len(predictions), 5)\n",
    "\n",
    "print(\"The accuracy of the model on the training set is: \", accuracy_train)\n",
    "print(\"The accuracy of the model on the test set is: \", accuracy_test)"
   ]
  },
  {
   "cell_type": "code",
   "execution_count": 55,
   "id": "8b738c7e",
   "metadata": {},
   "outputs": [
    {
     "data": {
      "text/plain": [
       "<AxesSubplot:>"
      ]
     },
     "execution_count": 55,
     "metadata": {},
     "output_type": "execute_result"
    },
    {
     "data": {
      "image/png": "[encoded data removed]",
      "text/plain": [
       "<Figure size 864x576 with 1 Axes>"
      ]
     },
     "metadata": {
      "needs_background": "light"
     },
     "output_type": "display_data"
    }
   ],
   "source": [
    "plt.figure(figsize=(12,8))\n",
    "# Top 10 most important features\n",
    "pd.Series(abs(clf.coef_[0]), index=dataset['X'].columns).nlargest(20).plot(kind='barh')"
   ]
  },
  {
   "cell_type": "markdown",
   "id": "be73e64e",
   "metadata": {},
   "source": [
    "## Logistic Regression"
   ]
  },
  {
   "cell_type": "code",
   "execution_count": 56,
   "id": "353dd833",
   "metadata": {},
   "outputs": [],
   "source": [
    "from sklearn.linear_model import LogisticRegression\n",
    "\n",
    "lr = LogisticRegression(random_state=0,max_iter=10000).fit(X_train, y_train)"
   ]
  },
  {
   "cell_type": "code",
   "execution_count": 61,
   "id": "99d67bba",
   "metadata": {},
   "outputs": [
    {
     "name": "stdout",
     "output_type": "stream",
     "text": [
      "The accuracy of the model on the training set is:  0.69295\n",
      "The accuracy of the model on the test set is:  0.68969\n"
     ]
    }
   ],
   "source": [
    "#Training accuracy\n",
    "train_pred = lr.predict(X_train).tolist()\n",
    "same_train = sum(x == y for x, y in zip(train_pred, y_train.tolist()))\n",
    "accuracy_train = round(same_train/ len(train_pred), 5)\n",
    "\n",
    "#Test set accuracy\n",
    "predictions = lr.predict(X_test).tolist()\n",
    "same_test = sum(x == y for x, y in zip(predictions, y_test.tolist()))\n",
    "accuracy_test = round(same_test / len(predictions), 5)\n",
    "\n",
    "print(\"The accuracy of the model on the training set is: \", accuracy_train)\n",
    "print(\"The accuracy of the model on the test set is: \", accuracy_test)"
   ]
  },
  {
   "cell_type": "code",
   "execution_count": 62,
   "id": "8108f8ac",
   "metadata": {},
   "outputs": [
    {
     "data": {
      "text/plain": [
       "<AxesSubplot:>"
      ]
     },
     "execution_count": 62,
     "metadata": {},
     "output_type": "execute_result"
    },
    {
     "data": {
      "image/png": "[encoded data removed]",
      "text/plain": [
       "<Figure size 864x576 with 1 Axes>"
      ]
     },
     "metadata": {
      "needs_background": "light"
     },
     "output_type": "display_data"
    }
   ],
   "source": [
    "plt.figure(figsize=(12,8))\n",
    "# Top 10 most important features\n",
    "pd.Series(abs(lr.coef_[0]), index=dataset['X'].columns).nlargest(20).plot(kind='barh')"
   ]
  },
  {
   "cell_type": "markdown",
   "id": "0f80c7d3",
   "metadata": {},
   "source": [
    "## Decision Tree"
   ]
  },
  {
   "cell_type": "code",
   "execution_count": 63,
   "id": "7d8928e1",
   "metadata": {},
   "outputs": [],
   "source": [
    "from sklearn import tree\n",
    "dtree = tree.DecisionTreeClassifier()\n",
    "dtree = dtree.fit(X_train, y_train)"
   ]
  },
  {
   "cell_type": "code",
   "execution_count": 64,
   "id": "80db749a",
   "metadata": {},
   "outputs": [
    {
     "name": "stdout",
     "output_type": "stream",
     "text": [
      "The accuracy of the model on the training set is:  0.99842\n",
      "The accuracy of the model on the test set is:  0.69095\n"
     ]
    }
   ],
   "source": [
    "#Training accuracy\n",
    "train_pred = dtree.predict(X_train).tolist()\n",
    "same_train = sum(x == y for x, y in zip(train_pred, y_train.tolist()))\n",
    "accuracy_train = round(same_train/ len(train_pred), 5)\n",
    "\n",
    "#Test set accuracy\n",
    "predictions = dtree.predict(X_test).tolist()\n",
    "same_test = sum(x == y for x, y in zip(predictions, y_test.tolist()))\n",
    "accuracy_test = round(same_test / len(predictions), 5)\n",
    "\n",
    "print(\"The accuracy of the model on the training set is: \", accuracy_train)\n",
    "print(\"The accuracy of the model on the test set is: \", accuracy_test)"
   ]
  },
  {
   "cell_type": "code",
   "execution_count": 60,
   "id": "a1deef44",
   "metadata": {},
   "outputs": [
    {
     "data": {
      "text/plain": [
       "<AxesSubplot:>"
      ]
     },
     "execution_count": 60,
     "metadata": {},
     "output_type": "execute_result"
    },
    {
     "data": {
      "image/png": "[encoded data removed]",
      "text/plain": [
       "<Figure size 864x576 with 1 Axes>"
      ]
     },
     "metadata": {
      "needs_background": "light"
     },
     "output_type": "display_data"
    }
   ],
   "source": [
    "plt.figure(figsize=(12,8))\n",
    "# Top 10 most important features\n",
    "pd.Series(abs(dtree.feature_importances_), index=dataset['X'].columns).nlargest(20).plot(kind='barh')"
   ]
  },
  {
   "cell_type": "markdown",
   "id": "2ade7e22",
   "metadata": {},
   "source": [
    "## GAMs"
   ]
  },
  {
   "cell_type": "code",
   "execution_count": 69,
   "id": "53420163",
   "metadata": {},
   "outputs": [
    {
     "data": {
      "text/plain": [
       "ExplainableBoostingClassifier(feature_names=['temperature', 'has_children',\n",
       "                                             'toCoupon_GEQ5min',\n",
       "                                             'toCoupon_GEQ15min',\n",
       "                                             'toCoupon_GEQ25min',\n",
       "                                             'direction_same', 'direction_opp',\n",
       "                                             'destination_Home',\n",
       "                                             'destination_No Urgent Place',\n",
       "                                             'destination_Work',\n",
       "                                             'passenger_Alone',\n",
       "                                             'passenger_Friend(s)',\n",
       "                                             'passenger_Kid(s)',\n",
       "                                             'passenger_Partner',\n",
       "                                             'weather_Rainy', 'weather_Snowy',\n",
       "                                             'weathe...\n",
       "                                             'categorical', 'categorical',\n",
       "                                             'categorical', 'categorical',\n",
       "                                             'categorical', 'categorical',\n",
       "                                             'categorical', 'categorical',\n",
       "                                             'categorical', 'categorical',\n",
       "                                             'categorical', 'categorical',\n",
       "                                             'categorical', 'categorical',\n",
       "                                             'categorical', 'categorical',\n",
       "                                             'categorical', 'categorical',\n",
       "                                             'categorical', 'categorical',\n",
       "                                             'categorical', 'categorical',\n",
       "                                             'categorical', 'categorical',\n",
       "                                             'categorical', 'categorical', ...])"
      ]
     },
     "execution_count": 69,
     "metadata": {},
     "output_type": "execute_result"
    }
   ],
   "source": [
    "from interpret.glassbox import ExplainableBoostingClassifier\n",
    "from sklearn.model_selection import train_test_split\n",
    "\n",
    "\n",
    "# create a train/test split\n",
    "seed = 1\n",
    "X_train, X_test, y_train, y_test = train_test_split(dataset['X'],dataset['y'], test_size=0.25, random_state=seed)\n",
    "\n",
    "# train a GAM for the training dataset\n",
    "ebm = ExplainableBoostingClassifier()\n",
    "\n",
    "ebm.fit(X_train, y_train)"
   ]
  },
  {
   "cell_type": "code",
   "execution_count": 70,
   "id": "9031ff37",
   "metadata": {},
   "outputs": [
    {
     "data": {
      "text/html": [
       "<!-- http://127.0.0.1:7598/1651107307680/ -->\n",
       "<iframe src=\"http://127.0.0.1:7598/1651107307680/\" width=100% height=800 frameBorder=\"0\"></iframe>"
      ]
     },
     "metadata": {},
     "output_type": "display_data"
    }
   ],
   "source": [
    "#training set\n",
    "ebm_global = ebm.explain_global()\n",
    "show(ebm_global)"
   ]
  },
  {
   "cell_type": "code",
   "execution_count": 73,
   "id": "960012c6",
   "metadata": {},
   "outputs": [],
   "source": [
    "incorrect_indices = [index for index, value in enumerate(zip(predictions, y_test.tolist())) if value[0] != value[1]]"
   ]
  },
  {
   "cell_type": "code",
   "execution_count": 74,
   "id": "e352b6a9",
   "metadata": {
    "scrolled": false
   },
   "outputs": [
    {
     "data": {
      "text/html": [
       "<!-- http://127.0.0.1:7598/1651079150656/ -->\n",
       "<iframe src=\"http://127.0.0.1:7598/1651079150656/\" width=100% height=800 frameBorder=\"0\"></iframe>"
      ]
     },
     "metadata": {},
     "output_type": "display_data"
    }
   ],
   "source": [
    "test_indices = incorrect_indices[:20]\n",
    "\n",
    "ebm_local = ebm.explain_local(X_test.iloc[test_indices, :], y_test.iloc[test_indices], name='EBM')\n",
    "show(ebm_local)"
   ]
  },
  {
   "cell_type": "code",
   "execution_count": null,
   "id": "926b80e7",
   "metadata": {},
   "outputs": [],
   "source": []
  }
 ],
 "metadata": {
  "kernelspec": {
   "display_name": "Python 3",
   "language": "python",
   "name": "python3"
  },
  "language_info": {
   "codemirror_mode": {
    "name": "ipython",
    "version": 3
   },
   "file_extension": ".py",
   "mimetype": "text/x-python",
   "name": "python",
   "nbconvert_exporter": "python",
   "pygments_lexer": "ipython3",
   "version": "3.8.8"
  }
 },
 "nbformat": 4,
 "nbformat_minor": 5
}
